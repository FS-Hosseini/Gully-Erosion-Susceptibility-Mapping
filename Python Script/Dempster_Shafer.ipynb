{
  "nbformat": 4,
  "nbformat_minor": 0,
  "metadata": {
    "colab": {
      "provenance": []
    },
    "kernelspec": {
      "name": "python3",
      "display_name": "Python 3"
    },
    "language_info": {
      "name": "python"
    }
  },
  "cells": [
    {
      "cell_type": "code",
      "execution_count": null,
      "metadata": {
        "id": "Y3bzyVlWbwco"
      },
      "outputs": [],
      "source": [
        "import numpy as np\n",
        "\n",
        "# Data initialization\n",
        "x = np.array([106, 10, 2, 3, 0])\n",
        "z = np.array([3370164, 1287742, 921376, 716983, 276675])\n",
        "y = 121\n",
        "s = np.sum(z)\n",
        "\n",
        "# Weighted Belief calculation\n",
        "wb = (x / y) / ((z - x) / (s - y))\n",
        "wbs = np.sum(wb)\n",
        "bel = wb / wbs\n",
        "\n",
        "# Weighted Disbelief calculation\n",
        "wd = ((z - x) / y) / (((s - y) - (z - x)) / (s - y))\n",
        "wds = np.sum(wd)\n",
        "dis = wd / wds\n",
        "\n",
        "# Uncertainty calculation\n",
        "unc = 1 - bel - dis\n",
        "\n",
        "# Plausibility calculation\n",
        "plc = unc + bel\n",
        "\n",
        "# Results\n",
        "BEL = bel.reshape(-1, 1)\n",
        "DIS = dis.reshape(-1, 1)\n",
        "UNC = unc.reshape(-1, 1)\n",
        "PLC = plc.reshape(-1, 1)\n",
        "\n",
        "# Combine results into a single output matrix\n",
        "results = np.hstack([BEL, DIS, UNC, PLC])\n",
        "\n",
        "# Output the results\n",
        "for i, (b, d, u, p) in enumerate(results, start=1):\n",
        "    print(f\"Variable {i}: Belief={b:.4f}, Disbelief={d:.4f}, Uncertainty={u:.4f}, Plausibility={p:.4f}\")\n"
      ]
    }
  ]
}